{
 "cells": [
  {
   "cell_type": "markdown",
   "metadata": {},
   "source": [
    "# P3: Wrangle Open Street Map Data\n"
   ]
  },
  {
   "cell_type": "markdown",
   "metadata": {},
   "source": [
    "**Map Area**      City Kolkata, Hāora, West Bengal, India <br>\n",
    "**Map Boundary**\n",
    "\n",
    "    minlat=\"22.492\" \n",
    "    minlon=\"88.297\" \n",
    "    maxlat=\"22.613\" \n",
    "    maxlon=\"88.4720002\""
   ]
  },
  {
   "cell_type": "markdown",
   "metadata": {
    "collapsed": true
   },
   "source": [
    "# 1.Problems in the Data\n",
    "\n",
    "** To prepare the data for MongoDB we first take a sample of the data and save it to kolkata_sample.osm **"
   ]
  },
  {
   "cell_type": "code",
   "execution_count": null,
   "metadata": {
    "collapsed": true
   },
   "outputs": [],
   "source": [
    "import xml.etree.ElementTree as ET  # Use cElementTree or lxml if too slow\n",
    "\n",
    "OSM_FILE = \"kolkata_india.osm\"  # Replace this with your osm file\n",
    "SAMPLE_FILE = \"kolkata_india_sample.osm\"\n",
    "\n",
    "k = 10 # Parameter: take every k-th top level element\n",
    "\n",
    "def get_element(osm_file, tags=('node', 'way', 'relation')):\n",
    "    \"\"\"Yield element if it is the right type of tag\n",
    "\n",
    "    Reference:\n",
    "    http://stackoverflow.com/questions/3095434/inserting-newlines-in-xml-file-generated-via-xml-etree-elementtree-in-python\n",
    "    \"\"\"\n",
    "    context = iter(ET.iterparse(osm_file, events=('start', 'end')))\n",
    "    _, root = next(context)\n",
    "    for event, elem in context:\n",
    "        if event == 'end' and elem.tag in tags:\n",
    "            yield elem\n",
    "            root.clear()\n",
    "\n",
    "\n",
    "with open(SAMPLE_FILE, 'wb') as output:\n",
    "    output.write('<?xml version=\"1.0\" encoding=\"UTF-8\"?>\\n')\n",
    "    output.write('<osm>\\n  ')\n",
    "\n",
    "    # Write every kth top level element\n",
    "    for i, element in enumerate(get_element(OSM_FILE)):\n",
    "        if i % k == 0:\n",
    "            output.write(ET.tostring(element, encoding='utf-8'))\n",
    "\n",
    "    output.write('</osm>')"
   ]
  },
  {
   "cell_type": "markdown",
   "metadata": {},
   "source": [
    "** Next we try to find some existing problems in the data **\n",
    "\n",
    "### 1.1 Invalid Postcodes :\n",
    "\n",
    "First when I checked the sample and iterated through the sample I didnt found any inconsistent post codes but there are some incorrect post codes in the dataset . In India PostCode size is suppose to be 6 so we check every record to find if there is any invalid post code .\n",
    "\n"
   ]
  },
  {
   "cell_type": "code",
   "execution_count": 2,
   "metadata": {
    "collapsed": false
   },
   "outputs": [
    {
     "name": "stdout",
     "output_type": "stream",
     "text": [
      "wrong_postalcode-> 70107\n",
      "wrong_postalcode-> 70107\n",
      "wrong_postalcode-> 70107\n"
     ]
    }
   ],
   "source": [
    "import xml.etree.ElementTree as ET\n",
    "et_parse_data=ET.iterparse('kolkata_india_sample.osm') #the complete dataset\n",
    "count=0\n",
    "def isPostCodeValid(postcode):\n",
    "    return len(postcode.encode('ascii','ignore').replace(' ',''))==6 #striping off unicode characters\n",
    "\n",
    "for _,elem in et_parse_data:\n",
    "    count+=1\n",
    "    for t in elem.iter('tag'):\n",
    "        if 'addr' in t.attrib['k']:\n",
    "            if 'postcode' in t.attrib['k']:\n",
    "                #print t.attrib['v']\n",
    "                if not isPostCodeValid(t.attrib['v']):\n",
    "                    print 'wrong_postalcode->',t.attrib['v']"
   ]
  },
  {
   "cell_type": "markdown",
   "metadata": {
    "collapsed": false
   },
   "source": [
    "### 1.2 Incorrect use of Address Fields\n",
    "\n",
    "I'm found a lot of addresses were inconsistence . Information from other fields were stacked in a single field like the following examples where **'addr:housename'** consisted 'Street name','Area', 'Postal Code', 'City' , 'State'"
   ]
  },
  {
   "cell_type": "code",
   "execution_count": 1,
   "metadata": {
    "collapsed": false
   },
   "outputs": [
    {
     "name": "stdout",
     "output_type": "stream",
     "text": [
      "addr:housename : GD-381, GD Block, Salt Lake City Kolkata, West Bengal 700106‎\n",
      "postal_code in housename (u'700106',)\n",
      "addr:housename : GD-381, GD Block, Salt Lake City Kolkata, West Bengal 700106‎\n",
      "postal_code in housename (u'700106',)\n",
      "addr:housename : GD-381, GD Block, Salt Lake City Kolkata, West Bengal 700106‎\n",
      "postal_code in housename (u'700106',)\n"
     ]
    }
   ],
   "source": [
    "import xml.etree.ElementTree as ET\n",
    "import re\n",
    "\n",
    "#postalcode regex\n",
    "postal_code=re.compile(r'.*(\\d{6}).*$')\n",
    "\n",
    "\n",
    "et_parse_data=ET.iterparse('kolkata_india_sample.osm')\n",
    "count=0\n",
    "for _,elem in et_parse_data:\n",
    "    count+=1\n",
    "    for t in elem.iter('tag'):\n",
    "        if 'addr' in t.attrib['k']:\n",
    "            if 'housename' in t.attrib['k']:\n",
    "                m=postal_code.match(t.attrib['v'])\n",
    "                if m:\n",
    "                    print t.attrib['k']+' : '+t.attrib['v']\n",
    "                    print 'postal_code in housename',m.groups()\n",
    "            #print t.attrib['k']+' : '+t.attrib['v']\n"
   ]
  },
  {
   "cell_type": "markdown",
   "metadata": {
    "collapsed": true
   },
   "source": [
    "### 1.3 Abbreviated Street Names \n",
    "We find that many of the addresses have abbreviated street names like 'Rd' for 'Road' ,'St' for 'Street' etc "
   ]
  },
  {
   "cell_type": "code",
   "execution_count": 5,
   "metadata": {
    "collapsed": false
   },
   "outputs": [
    {
     "name": "stdout",
     "output_type": "stream",
     "text": [
      "St -------- 41, Jawaharlal Nehru Road, Middleton Row, Middleton St\n",
      "St -------- 41, Jawaharlal Nehru Road, Middleton Row, Middleton St\n",
      "Rd -------- Hana Para Rd\n",
      "Rd -------- Hana Para Rd\n",
      "St -------- 41, Jawaharlal Nehru Road, Middleton Row, Middleton St\n",
      "Rd -------- Hana Para Rd\n"
     ]
    }
   ],
   "source": [
    "import xml.etree.ElementTree as ET\n",
    "import re\n",
    "\n",
    "#street_type regex\n",
    "street_type_re = re.compile(r'\\b\\S+\\.?$', re.IGNORECASE)\n",
    "\n",
    "\n",
    "et_parse_data=ET.iterparse('kolkata_sample.osm')\n",
    "count=0\n",
    "#street mapping\n",
    "mapping = { \"St\": \"Street\",\n",
    "            \"St.\": \"Street\",\n",
    "            \"Rd\":\"Road\",\n",
    "            \"Rd.\":\"Road\",\n",
    "            \"Ave\":\"Avenue\",\n",
    "            \"Ave.\":\"Avenue\",\n",
    "            \"Expy\":\"Expressway\",\n",
    "            \"Hwy\":\"Highway\"\n",
    "}\n",
    "\n",
    "def abbr_street_type(street_name):\n",
    "    m = street_type_re.search(street_name)\n",
    "    if m:\n",
    "        street_type = m.group()\n",
    "        if street_type in mapping:\n",
    "            print street_type,'--------',street_name\n",
    "\n",
    "            \n",
    "for _,elem in et_parse_data:\n",
    "    count+=1\n",
    "    for t in elem.iter('tag'):\n",
    "        if 'addr' in t.attrib['k']:\n",
    "            if 'street' in t.attrib['k']:\n",
    "                abbr_street_type(t.attrib['v'])\n"
   ]
  },
  {
   "cell_type": "markdown",
   "metadata": {},
   "source": [
    "# 2. Preparing the Data for MongoDB \n",
    "\n",
    "Now to prepare the data for Mongo DB first we have to fix the problems in the data \n",
    "    \n",
    "**Invalid Postcodes  :  ** Correct the post code<br>\n",
    "**Incorrect use of Address Fields  :  ** We just extract the postcode and create a new field post code in the node<br>\n",
    "**Abbreviated Street Names  :  ** We replace the abbreviations with full text"
   ]
  },
  {
   "cell_type": "code",
   "execution_count": 1,
   "metadata": {
    "collapsed": false
   },
   "outputs": [],
   "source": [
    "import xml.etree.ElementTree as ET\n",
    "import codecs\n",
    "import re\n",
    "from collections import defaultdict\n",
    "import json\n",
    "\n",
    "#regex\n",
    "postal_code=re.compile(r'.*(\\d{6}).*$')\n",
    "lower = re.compile(r'^([a-z]|_)*$')\n",
    "lower_colon = re.compile(r'^([a-z]|_)*:([a-z]|_)*$')\n",
    "problemchars = re.compile(r'[=\\+/&<>;\\'\"\\?%#$@\\,\\. \\t\\r\\n]')\n",
    "street_type_re = re.compile(r'\\b\\S+\\.?$', re.IGNORECASE)\n",
    "\n",
    "\n",
    "#street mapping\n",
    "mapping = { \"St\": \"Street\",\n",
    "            \"St.\": \"Street\",\n",
    "            \"Rd\":\"Road\",\n",
    "            \"Rd.\":\"Road\",\n",
    "            \"Ave\":\"Avenue\",\n",
    "            \"Ave.\":\"Avenue\",\n",
    "            \"Expy\":\"Expressway\",\n",
    "            \"Hwy\":\"Highway\"\n",
    "}\n",
    "\n",
    "#function to validate the postcode \n",
    "def validate_postcode(postcode):\n",
    "    #strip any unicode charactars from the postcode and whitespaces\n",
    "    postcode_norm=postcode.encode('ascii','ignore').replace(' ','')\n",
    "    if len(postcode_norm)==6:\n",
    "        return postcode_norm\n",
    "    if len(postcode_norm)>6:\n",
    "        return postcode_norm[:3]+postcode_norm[-3:]\n",
    "    if len(postcode_norm)<6:\n",
    "        return postcode_norm[:2]+'0'+postcode_norm[-3:]\n",
    "    \n",
    "#refine housename just strip the postcode and return the postcode with the data\n",
    "def refine_housename(housename):\n",
    "    housename=housename.encode('ascii','ignore')\n",
    "    m=postal_code.match(housename)\n",
    "    if m:\n",
    "        return housename.replace(m.groups()[0],''),m.groups()[0]\n",
    "    else:\n",
    "        return housename,None\n",
    "\n",
    "#Refine street name \n",
    "def refine_street_name(street_name):\n",
    "    m = street_type_re.search(street_name)\n",
    "    if m:\n",
    "        street_type = m.group()\n",
    "        if street_type in mapping:\n",
    "            street_name=street_name.replace(street_type,mapping[street_type])\n",
    "    \n",
    "    return street_name\n",
    "\n",
    "\n",
    "#shape the data for our MongoDB \n",
    "def shape_element(element):\n",
    "    node = {}\n",
    "    if element.tag == \"node\" or element.tag == \"way\" :\n",
    "        \n",
    "        node['id']=element.attrib['id']\n",
    "        node['type']=element.tag\n",
    "        node['visible']=True\n",
    "        \n",
    "        if 'lat' in element.attrib:\n",
    "            node['pos']=list((float(element.attrib['lat']),float(element.attrib['lon'])))\n",
    "        \n",
    "        if 'visible' in element.attrib:\n",
    "            node['visible']=element.attrib['visible']\n",
    "        \n",
    "        if element.tag==\"way\":\n",
    "            node['node_refs']=[]\n",
    "            for t in element.iter('nd'):\n",
    "                node['node_refs'].append(t.attrib['ref'])\n",
    "        \n",
    "        addr={}\n",
    "        for t in element.iter('tag'):\n",
    "            if lower.match(t.attrib['k']):\n",
    "                node[t.attrib['k']]=t.attrib['v']\n",
    "            elif lower_colon.match(t.attrib['k']):\n",
    "                if t.attrib['k'].split(':')[0]=='addr':\n",
    "                    if t.attrib['k'].split(':')[1]=='street':\n",
    "                        addr[t.attrib['k'].split(':')[1]]=refine_street_name(t.attrib['v'])\n",
    "                    elif t.attrib['k'].split(':')[1]=='postcode':\n",
    "                        addr[t.attrib['k'].split(':')[1]]=validate_postcode(t.attrib['v'])\n",
    "                    elif t.attrib['k'].split(':')[1]=='housename':\n",
    "                        hname,postcode=refine_housename(t.attrib['v'])\n",
    "                        addr[t.attrib['k'].split(':')[1]]=hname\n",
    "                        addr['postcode']=postcode\n",
    "                    else:\n",
    "                        addr[t.attrib['k'].split(':')[1]]=t.attrib['v']\n",
    "        \n",
    "        if len(addr)!=0:\n",
    "            node['address']=addr\n",
    "        \n",
    "        created={}\n",
    "        created_keys=[\"changeset\",\"user\",\"version\",\"uid\", \"timestamp\"]\n",
    "        for k,v in element.attrib.iteritems():\n",
    "            if k in created_keys:\n",
    "                created[k]=v\n",
    "        node['created']=created\n",
    "        \n",
    "        return node\n",
    "    else:\n",
    "        return None\n",
    "\n",
    "#process osm map file and append write to json\n",
    "def process_map(file_in, pretty = False):\n",
    "    # You do not need to change this file\n",
    "    file_out = \"{0}.json\".format(file_in)\n",
    "    count=defaultdict(int)\n",
    "    with codecs.open(file_out, \"w\") as fo:\n",
    "        for _, element in ET.iterparse(file_in): \n",
    "            count[element.tag]+=1\n",
    "            el = shape_element(element)\n",
    "            if el:\n",
    "                if pretty:\n",
    "                    fo.write(json.dumps(el, indent=2)+\"\\n\")\n",
    "                else:\n",
    "                    fo.write(json.dumps(el) + \"\\n\")\n",
    "            #else it will eat all your ram :) \n",
    "            if element.tag=='node' or element.tag=='way':\n",
    "                element.clear()\n",
    "            \n",
    "    \n",
    "    print count,' endpoints processed . . .'\n",
    "\n",
    "\n"
   ]
  },
  {
   "cell_type": "code",
   "execution_count": 2,
   "metadata": {
    "collapsed": false
   },
   "outputs": [
    {
     "name": "stdout",
     "output_type": "stream",
     "text": [
      "defaultdict(<type 'int'>, {'node': 307338, 'nd': 370641, 'member': 665, 'tag': 69976, 'relation': 130, 'way': 63513, 'osm': 1})  endpoints processed . . .\n"
     ]
    }
   ],
   "source": [
    "process_map('kolkata_india_sample.osm')"
   ]
  },
  {
   "cell_type": "markdown",
   "metadata": {
    "collapsed": true
   },
   "source": [
    "**Now we process the full data**\n",
    "\n"
   ]
  },
  {
   "cell_type": "markdown",
   "metadata": {},
   "source": [
    "# 3.Data Overview\n",
    "Now we import the json to MongoDB\n",
    "<br>\n",
    "\n",
    "** mongoimport -db project -c kol --file kolkata_india.osm.json**\n"
   ]
  },
  {
   "cell_type": "code",
   "execution_count": 13,
   "metadata": {
    "collapsed": false
   },
   "outputs": [],
   "source": [
    "#setup db\n",
    "from pymongo import MongoClient\n",
    "import pymongo\n",
    "import matplotlib.pyplot as plt\n",
    "import pandas as pd\n",
    "import numpy as np\n",
    "import seaborn as sns\n",
    "client = MongoClient('localhost:27017')\n",
    "db = client['project'] "
   ]
  },
  {
   "cell_type": "code",
   "execution_count": 14,
   "metadata": {
    "collapsed": false
   },
   "outputs": [
    {
     "data": {
      "text/plain": [
       "3158923"
      ]
     },
     "execution_count": 14,
     "metadata": {},
     "output_type": "execute_result"
    }
   ],
   "source": [
    "#The number of records in db\n",
    "db.kol.find().count()"
   ]
  },
  {
   "cell_type": "code",
   "execution_count": 15,
   "metadata": {
    "collapsed": false
   },
   "outputs": [
    {
     "data": {
      "text/plain": [
       "3073375"
      ]
     },
     "execution_count": 15,
     "metadata": {},
     "output_type": "execute_result"
    }
   ],
   "source": [
    "#Number of nodes in db\n",
    "db.kol.find({\"type\":\"node\"}).count()"
   ]
  },
  {
   "cell_type": "code",
   "execution_count": 16,
   "metadata": {
    "collapsed": false
   },
   "outputs": [
    {
     "data": {
      "text/plain": [
       "85547"
      ]
     },
     "execution_count": 16,
     "metadata": {},
     "output_type": "execute_result"
    }
   ],
   "source": [
    "#Number of ways in db\n",
    "db.kol.find({\"type\":\"way\"}).count()"
   ]
  },
  {
   "cell_type": "code",
   "execution_count": 17,
   "metadata": {
    "collapsed": false
   },
   "outputs": [
    {
     "data": {
      "text/plain": [
       "388"
      ]
     },
     "execution_count": 17,
     "metadata": {},
     "output_type": "execute_result"
    }
   ],
   "source": [
    "#number of unique users\n",
    "len(db.kol.distinct(\"created.user\"))"
   ]
  },
  {
   "cell_type": "code",
   "execution_count": 18,
   "metadata": {
    "collapsed": false
   },
   "outputs": [
    {
     "data": {
      "text/plain": [
       "50"
      ]
     },
     "execution_count": 18,
     "metadata": {},
     "output_type": "execute_result"
    }
   ],
   "source": [
    "#number of unique amenity \n",
    "len(db.kol.distinct(\"amenity\"))"
   ]
  },
  {
   "cell_type": "markdown",
   "metadata": {},
   "source": [
    "# 4. Additional Ideas"
   ]
  },
  {
   "cell_type": "markdown",
   "metadata": {},
   "source": [
    "## Improving The Data\n",
    "\n",
    "** The main improvement can be done in the 'addr:housename' part as it contains whole address in some of nodes**"
   ]
  },
  {
   "cell_type": "markdown",
   "metadata": {},
   "source": [
    "## Analyzing The Data"
   ]
  },
  {
   "cell_type": "markdown",
   "metadata": {},
   "source": [
    "### Top 10 Contributors"
   ]
  },
  {
   "cell_type": "code",
   "execution_count": 19,
   "metadata": {
    "collapsed": false
   },
   "outputs": [
    {
     "data": {
      "text/plain": [
       "{'Apreethi': 97814,\n",
       " 'Rondon237': 224135,\n",
       " 'anthony1': 86152,\n",
       " 'harisha': 73851,\n",
       " 'jasvinderkaur': 73103,\n",
       " 'ravikumar1': 71253,\n",
       " 'saikumar': 106549,\n",
       " 'samuelmj': 100463,\n",
       " 'shiva05': 71963,\n",
       " 'venugopal009': 74821}"
      ]
     },
     "execution_count": 19,
     "metadata": {},
     "output_type": "execute_result"
    }
   ],
   "source": [
    "#top #10 contributor \n",
    "top10=db.kol.aggregate([{\"$group\":{\"_id\":\"$created.user\", \"count\":{\"$sum\":1}}}, {\"$sort\":{\"count\":-1}}, {\"$limit\":10}])\n",
    "plot_dict={}\n",
    "for d in list(top10):\n",
    "    plot_dict[d['_id'].encode('ascii','ignore')]=d['count']\n",
    "plot_dict\n"
   ]
  },
  {
   "cell_type": "code",
   "execution_count": 20,
   "metadata": {
    "collapsed": false
   },
   "outputs": [
    {
     "name": "stdout",
     "output_type": "stream",
     "text": [
      "Populating the interactive namespace from numpy and matplotlib\n"
     ]
    },
    {
     "data": {
      "image/png": "[encoded data removed]",
      "text/plain": [
       "<matplotlib.figure.Figure at 0xab2ae36c>"
      ]
     },
     "metadata": {},
     "output_type": "display_data"
    }
   ],
   "source": [
    "#plotting top 10 contributors\n",
    "%pylab inline\n",
    "pylab.rcParams['figure.figsize'] = (15, 6)\n",
    "plt.bar(np.arange(10),plot_dict.values(),0.5,color='g')\n",
    "plt.xticks(np.arange(10) + .25, plot_dict.keys())\n",
    "plt.xlabel('Name of Top 10 Contributors')\n",
    "plt.ylabel('Number of Contributions')\n",
    "plt.title('Top 10 Contributors')\n",
    "plt.show()\n"
   ]
  },
  {
   "cell_type": "markdown",
   "metadata": {},
   "source": [
    "### Top 10 Amenities"
   ]
  },
  {
   "cell_type": "code",
   "execution_count": 21,
   "metadata": {
    "collapsed": false
   },
   "outputs": [
    {
     "data": {
      "text/plain": [
       "{'atm': 48,\n",
       " 'bank': 70,\n",
       " 'bus_station': 27,\n",
       " 'cinema': 33,\n",
       " 'college': 69,\n",
       " 'fuel': 44,\n",
       " 'hospital': 83,\n",
       " 'place_of_worship': 62,\n",
       " 'restaurant': 70,\n",
       " 'school': 140}"
      ]
     },
     "execution_count": 21,
     "metadata": {},
     "output_type": "execute_result"
    }
   ],
   "source": [
    "top10_am=db.kol.aggregate([{\"$match\":{\"amenity\":{\"$exists\":1}}},{\"$group\":{\"_id\":\"$amenity\", \"count\":{\"$sum\":1}}}, {\"$sort\":{\"count\":-1}}, {\"$limit\":10}])\n",
    "plot_dict={}\n",
    "for d in list(top10_am):\n",
    "    plot_dict[d['_id'].encode('ascii','ignore')]=d['count']\n",
    "\n",
    "# when I store the list in a dictonary the order gets lost :( \n",
    "plot_dict"
   ]
  },
  {
   "cell_type": "code",
   "execution_count": 22,
   "metadata": {
    "collapsed": false
   },
   "outputs": [
    {
     "name": "stdout",
     "output_type": "stream",
     "text": [
      "Populating the interactive namespace from numpy and matplotlib\n"
     ]
    },
    {
     "data": {
      "image/png": "[encoded data removed]",
      "text/plain": [
       "<matplotlib.figure.Figure at 0xaa27e46c>"
      ]
     },
     "metadata": {},
     "output_type": "display_data"
    }
   ],
   "source": [
    "#plotting top 10 contributors\n",
    "%pylab inline\n",
    "pylab.rcParams['figure.figsize'] = (15, 6)\n",
    "plt.bar(np.arange(10),plot_dict.values(),0.5,color='g')\n",
    "plt.xticks(np.arange(10) + .25, plot_dict.keys())\n",
    "plt.xlabel('Name of Top 10 Amenities ')\n",
    "plt.ylabel('Count of Amenities')\n",
    "plt.title('Top 10 Amenities')\n",
    "plt.show()\n"
   ]
  },
  {
   "cell_type": "markdown",
   "metadata": {
    "collapsed": false
   },
   "source": [
    "### Amenitites Near A Location\n",
    "\n",
    "I have '2d' index on 'pos' on kol_sample database ( I have a 32 Bit system and the full database is large so MongoDB won't allow me to have '2d' index on the full Database so instead I use the sample_database)\n"
   ]
  },
  {
   "cell_type": "code",
   "execution_count": 39,
   "metadata": {
    "collapsed": false
   },
   "outputs": [
    {
     "ename": "SyntaxError",
     "evalue": "invalid syntax (<ipython-input-39-4e8839fc3713>, line 7)",
     "output_type": "error",
     "traceback": [
      "\u001b[1;36m  File \u001b[1;32m\"<ipython-input-39-4e8839fc3713>\"\u001b[1;36m, line \u001b[1;32m7\u001b[0m\n\u001b[1;33m    return list(db.kol_sample.find({'pos':('$near',post),('$maxDistance',1)}})\u001b[0m\n\u001b[1;37m                                                                           ^\u001b[0m\n\u001b[1;31mSyntaxError\u001b[0m\u001b[1;31m:\u001b[0m invalid syntax\n"
     ]
    }
   ],
   "source": [
    "db = client['project_sample'] \n",
    "from bson.son import SON\n",
    "\n",
    "def findAmenities(pos,am_type,max_dist):\n",
    "    query={}\n",
    "    query['pos']={'$near':pos,'$maxDistance':max_dist/111.2}\n",
    "    query['amenity']=am_type\n",
    "    return list(db.kol_sample.find({'pos':('$near',post),('$maxDistance',1)}})\n",
    "    \n",
    "findAmenities([22.1240911, 87.997864],'restaurant',100)\n",
    "    "
   ]
  },
  {
   "cell_type": "code",
   "execution_count": null,
   "metadata": {
    "collapsed": true
   },
   "outputs": [],
   "source": []
  }
 ],
 "metadata": {
  "kernelspec": {
   "display_name": "Python 2",
   "language": "python",
   "name": "python2"
  },
  "language_info": {
   "codemirror_mode": {
    "name": "ipython",
    "version": 2
   },
   "file_extension": ".py",
   "mimetype": "text/x-python",
   "name": "python",
   "nbconvert_exporter": "python",
   "pygments_lexer": "ipython2",
   "version": "2.7.6"
  }
 },
 "nbformat": 4,
 "nbformat_minor": 0
}
