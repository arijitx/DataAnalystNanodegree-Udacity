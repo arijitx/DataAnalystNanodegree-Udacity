{
 "cells": [
  {
   "cell_type": "markdown",
   "metadata": {},
   "source": [
    "# P1: Test a Perceptual Phenomenon"
   ]
  },
  {
   "cell_type": "markdown",
   "metadata": {},
   "source": [
    "## Background Information\n",
    "\n",
    "In a Stroop task, participants are presented with a list of words, with each word displayed in a color of ink. The participant’s task is to say out loud the color of the ink in which the word is printed. The task has two conditions: a congruent words condition, and an incongruent words condition. In the congruent words condition, the words being displayed are color words whose names match the colors in which they are printed: for example RED, BLUE. In the incongruent words condition, the words displayed are color words whose names do not match the colors in which they are printed: for example PURPLE, ORANGE. In each case, we measure the time it takes to name the ink colors in equally-sized lists. Each participant will go through and record a time from each condition."
   ]
  },
  {
   "cell_type": "markdown",
   "metadata": {},
   "source": [
    "## Questions For Investigation\n"
   ]
  },
  {
   "cell_type": "markdown",
   "metadata": {},
   "source": [
    "### 1. What is our independent variable? What is our dependent variable?\n",
    "\n",
    "    Dependent Variable         Time to Name the color \n",
    "    Independent Variable       Condition (Congruent / Incongruent ) \n",
    "    "
   ]
  },
  {
   "cell_type": "raw",
   "metadata": {},
   "source": []
  },
  {
   "cell_type": "markdown",
   "metadata": {},
   "source": [
    "### 2. What is an appropriate set of hypotheses for this task? What kind of statistical test do you expect to perform? Justify your choices.\n",
    "\n",
    "#### Hypotheses \n",
    "\n",
    "        H0 : Time taken to name both congruent and Incgruent are same . H0: μC = μI\n",
    "        Ha : Time taken to name congruent and incongruent are not same . Ha: μC≠ μI\n",
    "        \n",
    "        μC is the Population mean for Congruent data sample \n",
    "        μI is the Population mean for Incongruent data sample\n",
    "        \n",
    "  \n",
    "#### Statistical Test\n",
    "\n",
    "  I will be using two tail dependent t-test because here we are compareing two dependent samples of data and the sample distribution is assumed to be normal . "
   ]
  },
  {
   "cell_type": "markdown",
   "metadata": {},
   "source": [
    "### 3. Report some descriptive statistics regarding this dataset. Include at least one measure of central tendency and at least one measure of variability."
   ]
  },
  {
   "cell_type": "code",
   "execution_count": 3,
   "metadata": {
    "collapsed": false
   },
   "outputs": [
    {
     "name": "stdout",
     "output_type": "stream",
     "text": [
      "Congruent :\n",
      "------------\n",
      "Mean :  14.051125\n",
      "SD   :  3.55935795765\n",
      "------------\n",
      "Incongruent :\n",
      "------------\n",
      "Mean :  22.0159166667\n",
      "SD   :  4.79705712247\n"
     ]
    }
   ],
   "source": [
    "import pandas as pd\n",
    "path = 'stroopdata.csv'\n",
    "dataFrame = pd.read_csv(path)\n",
    "mean_congruent = dataFrame['Congruent'].mean()\n",
    "sd_congruent=dataFrame['Congruent'].std()\n",
    "mean_incongruent = dataFrame['Incongruent'].mean()\n",
    "sd_incongruent=dataFrame['Incongruent'].std()\n",
    "print 'Congruent :'\n",
    "print '------------'\n",
    "print 'Mean : ',mean_congruent\n",
    "print 'SD   : ',sd_congruent\n",
    "print '------------'\n",
    "print 'Incongruent :'\n",
    "print '------------'\n",
    "print 'Mean : ',mean_incongruent\n",
    "print 'SD   : ',sd_incongruent"
   ]
  },
  {
   "cell_type": "markdown",
   "metadata": {},
   "source": [
    "### 4. Provide one or two visualizations that show the distribution of the sample data. Write one or two sentences noting what you observe about the plot or plots."
   ]
  },
  {
   "cell_type": "code",
   "execution_count": 4,
   "metadata": {
    "collapsed": false
   },
   "outputs": [
    {
     "name": "stdout",
     "output_type": "stream",
     "text": [
      "Populating the interactive namespace from numpy and matplotlib\n"
     ]
    },
    {
     "name": "stderr",
     "output_type": "stream",
     "text": [
      "/usr/lib/pymodules/python2.7/matplotlib/collections.py:548: FutureWarning: elementwise comparison failed; returning scalar instead, but in the future will perform elementwise comparison\n",
      "  if self._edgecolors == 'face':\n"
     ]
    },
    {
     "data": {
      "image/png": "[encoded data removed]",
      "text/plain": [
       "<matplotlib.figure.Figure at 0xaf6a398c>"
      ]
     },
     "metadata": {},
     "output_type": "display_data"
    }
   ],
   "source": [
    "%pylab inline\n",
    "\n",
    "import matplotlib.pyplot as plt\n",
    "sample_count=range(1,25)\n",
    "plt.scatter(x=sample_count, y=dataFrame['Congruent'],label=\"Congruent\",c='b')\n",
    "plt.scatter(x=sample_count, y=dataFrame['Incongruent'],label=\"Incongruent\",c='r')\n",
    "plt.xlabel(\"Sample Index\")\n",
    "plt.ylabel(\"Time taken\")\n",
    "plt.legend(loc='upper left')\n",
    "plt.title(\"Congruent Vs Incongruent\")\n",
    "plt.show()"
   ]
  },
  {
   "cell_type": "code",
   "execution_count": 9,
   "metadata": {
    "collapsed": false
   },
   "outputs": [
    {
     "name": "stdout",
     "output_type": "stream",
     "text": [
      "Populating the interactive namespace from numpy and matplotlib\n"
     ]
    },
    {
     "data": {
      "image/png": "[encoded data removed]",
      "text/plain": [
       "<matplotlib.figure.Figure at 0xaefb9fec>"
      ]
     },
     "metadata": {},
     "output_type": "display_data"
    }
   ],
   "source": [
    "%pylab inline\n",
    "\n",
    "import matplotlib.pyplot as plt\n",
    "locations = [1, 3]\n",
    "plt.figure()\n",
    "plot2 = plt.boxplot(list((dataFrame['Congruent'],dataFrame['Incongruent'])), \n",
    "                    widths=0.7,\n",
    "                    notch=False,             \n",
    "                    positions=locations,    \n",
    "                    patch_artist=True,\n",
    "                    )\n",
    "names = ['Congruent','Incongruent']\n",
    "\n",
    "plt.xticks(locations,              \n",
    "           names,                   \n",
    "           rotation='vertical')     \n",
    "plt.ylabel('Time Taken')                  \n",
    "plt.title('Box Plot Congruent and Incongruent') \n",
    "                    \n",
    "plt.show()             "
   ]
  },
  {
   "cell_type": "markdown",
   "metadata": {},
   "source": [
    "The Plot shows that for Incongruent time taken is greater than the Congruent part in each case"
   ]
  },
  {
   "cell_type": "markdown",
   "metadata": {},
   "source": [
    "### 5. Now, perform the statistical test and report your results. What is your confidence level and your critical statistic value? Do you reject the null hypothesis or fail to reject it? Come to a conclusion in terms of the experiment task. Did the results match up with your expectations?\n",
    "\n",
    "    mu_D = -7.96479 = -7.97 (approx)\n",
    "    S = 4.87\n",
    "    DF = 23\n",
    "    t-stat = -8.017\n",
    "    For α 0.05, t-critical: -2.06865761 , 2.06865761\n",
    "    The two-tailed P value is less than 0.0001 (http://www.graphpad.com/quickcalcs/pValue2/)\n",
    "    95% CI: (-9.847 , -5.913)\n",
    "\n",
    "#### NULL Hypothesis (H0) Rejected . \n",
    "\n",
    "Both samples Congruent and Incongruent are significantly different . By conventional criteria, this difference is considered to be extremely statistically significant. \n",
    "\n",
    "Yes  the results match my expectation and the task to name the color for Congruent and Incongruent condition is significantly different . \n",
    "\n"
   ]
  },
  {
   "cell_type": "code",
   "execution_count": null,
   "metadata": {
    "collapsed": true
   },
   "outputs": [],
   "source": []
  }
 ],
 "metadata": {
  "kernelspec": {
   "display_name": "Python 2",
   "language": "python",
   "name": "python2"
  },
  "language_info": {
   "codemirror_mode": {
    "name": "ipython",
    "version": 2
   },
   "file_extension": ".py",
   "mimetype": "text/x-python",
   "name": "python",
   "nbconvert_exporter": "python",
   "pygments_lexer": "ipython2",
   "version": "2.7.6"
  }
 },
 "nbformat": 4,
 "nbformat_minor": 0
}
